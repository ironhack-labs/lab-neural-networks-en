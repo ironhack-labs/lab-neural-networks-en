{
 "cells": [
  {
   "cell_type": "markdown",
   "id": "729ac297-8936-43a0-8caf-d2262cef5ee6",
   "metadata": {},
   "source": [
    "# Challenge 2: Tensorflow Hyperparameter Tuning\n",
    "\n",
    "## Introduction\n",
    "In this challenge, I used **Tensorflow Playground** to optimize the hyperparameters of a neural network working with the **Spiral** dataset. The main objective was to adjust the hyperparameters to achieve a **training loss** and **test loss** below 0.05.\n",
    "\n",
    "## Adjustment Process\n",
    "1. I selected the Spiral dataset in Tensorflow Playground.\n",
    "2. I used the **Tanh** activation function due to its good performance in non-linear classification problems.\n",
    "3. I added **three hidden layers**, gradually adjusting the number of neurons in each layer to reach the configuration of 6, 5, and 4 neurons, respectively.\n",
    "4. I adjusted other hyperparameters, such as the batch size to 20, and used the **no regularization** option to simplify the model.\n",
    "5. I trained the model until achieving a **test loss** of 0.01 and a **training loss** of 0.009.\n",
    "\n",
    "I tried to adjust the learning rate, changing the initial value, but I got more bigger loss or more time. I founded better results with the default value of 0.03.\n",
    "\n",
    "## Final Results\n",
    "- **Dataset Used:** Spiral\n",
    "- **Number of Epochs:** 718\n",
    "- **Learning Rate:** 0.03\n",
    "- **Activation Function:** Tanh\n",
    "- **Selected Features:** X₁, X₂\n",
    "- **Hidden Layers and Neurons:**\n",
    "  - Layer 1: 6 neurons\n",
    "  - Layer 2: 5 neurons\n",
    "  - Layer 3: 4 neurons\n",
    "- **Training Loss:** 0.009\n",
    "- **Test Loss:** 0.010\n",
    "- **Regularization:** None\n",
    "\n",
    "## Screenshot\n",
    "Below is the screenshot of the experiment performed:\n",
    "\n",
    "![Tensorflow Playground Experiment](challenge-2.png)\n",
    "\n",
    "## Conclusion\n",
    "This exercise helped to understand the importance of hyperparameters in training neural networks. Optimizing parameters such as learning rate, activation function, and hidden layer design was key to achieving low training and test losses. This demonstrates that a good adjustment of hyperparameters can significantly improve the performance of a model."
   ]
  }
 ],
 "metadata": {
  "kernelspec": {
   "display_name": "Python 3 (ipykernel)",
   "language": "python",
   "name": "python3"
  },
  "language_info": {
   "codemirror_mode": {
    "name": "ipython",
    "version": 3
   },
   "file_extension": ".py",
   "mimetype": "text/x-python",
   "name": "python",
   "nbconvert_exporter": "python",
   "pygments_lexer": "ipython3",
   "version": "3.12.2"
  }
 },
 "nbformat": 4,
 "nbformat_minor": 5
}
