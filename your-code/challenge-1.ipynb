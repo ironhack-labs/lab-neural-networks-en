{
 "cells": [
  {
   "cell_type": "markdown",
   "metadata": {},
   "source": [
    "# Challenge 1 - Tic Tac Toe\n",
    "\n",
    "In this lab you will perform deep learning analysis on a dataset of playing [Tic Tac Toe](https://en.wikipedia.org/wiki/Tic-tac-toe).\n",
    "\n",
    "There are 9 grids in Tic Tac Toe that are coded as the following picture shows:\n",
    "\n",
    "![Tic Tac Toe Grids](tttboard.jpg)\n",
    "\n",
    "In the first 9 columns of the dataset you can find which marks (`x` or `o`) exist in the grids. If there is no mark in a certain grid, it is labeled as `b`. The last column is `class` which tells you whether Player X (who always moves first in Tic Tac Toe) wins in this configuration. Note that when `class` has the value `False`, it means either Player O wins the game or it ends up as a draw."
   ]
  },
  {
   "cell_type": "markdown",
   "metadata": {},
   "source": [
    "Follow the steps suggested below to conduct a neural network analysis using Tensorflow and Keras. You will build a deep learning model to predict whether Player X wins the game or not.\n",
    "\n",
    "## Step 1: Data Engineering\n",
    "\n",
    "This dataset is almost in the ready-to-use state so you do not need to worry about missing values and so on. Still, some simple data engineering is needed.\n",
    "\n",
    "1. Read `tic-tac-toe.csv` into a dataframe.\n",
    "1. Inspect the dataset. Determine if the dataset is reliable by eyeballing the data.\n",
    "1. Convert the categorical values to numeric in all columns.\n",
    "1. Separate the inputs and output.\n",
    "1. Normalize the input data."
   ]
  },
  {
   "cell_type": "code",
   "execution_count": 2,
   "metadata": {},
   "outputs": [
    {
     "name": "stdout",
     "output_type": "stream",
     "text": [
      "0       True\n",
      "1       True\n",
      "2       True\n",
      "3       True\n",
      "4       True\n",
      "       ...  \n",
      "953    False\n",
      "954    False\n",
      "955    False\n",
      "956    False\n",
      "957    False\n",
      "Name: class, Length: 958, dtype: bool\n",
      "[['x' 'x' 'x' ... 'x' 'o' 'o']\n",
      " ['x' 'x' 'x' ... 'o' 'x' 'o']\n",
      " ['x' 'x' 'x' ... 'o' 'o' 'x']\n",
      " ...\n",
      " ['o' 'x' 'o' ... 'x' 'o' 'x']\n",
      " ['o' 'x' 'o' ... 'x' 'o' 'x']\n",
      " ['o' 'o' 'x' ... 'o' 'x' 'x']]\n",
      "[[2 2 2 ... 2 1 1]\n",
      " [2 2 2 ... 1 2 1]\n",
      " [2 2 2 ... 1 1 2]\n",
      " ...\n",
      " [1 2 1 ... 2 1 2]\n",
      " [1 2 1 ... 2 1 2]\n",
      " [1 1 2 ... 1 2 2]]\n"
     ]
    }
   ],
   "source": [
    "# Importing necessary libraries\n",
    "import pandas as pd\n",
    "from sklearn.preprocessing import LabelEncoder\n",
    "from sklearn.preprocessing import StandardScaler\n",
    "\n",
    "# Step 1: Load the dataset\n",
    "df = pd.read_csv('tic-tac-toe.csv')\n",
    "\n",
    "# Step 2: Inspect the dataset\n",
    "print(\"First 5 rows of the dataset:\")\n",
    "print(df.head())\n",
    "print(\"\\n\")  # Adding space between outputs\n",
    "\n",
    "# Step 3: Convert categorical values to numeric\n",
    "label_encoder = LabelEncoder()\n",
    "df_encoded = df.apply(label_encoder.fit_transform)\n",
    "\n",
    "# Print after converting categorical values to numeric\n",
    "print(\"First 5 rows after converting categorical values to numeric:\")\n",
    "print(df_encoded.head())\n",
    "print(\"\\n\")  # Adding space between outputs\n",
    "\n",
    "# Step 4: Separate the inputs and output\n",
    "X = df_encoded.drop('class', axis=1)  # Features (input columns)\n",
    "y = df_encoded['class']  # Output (class column)\n",
    "\n",
    "# Step 5: Normalize the input data\n",
    "scaler = StandardScaler()\n",
    "X_normalized = scaler.fit_transform(X)\n",
    "\n",
    "# Display the processed dataset\n",
    "print(\"First 5 rows of normalized input data:\")\n",
    "print(X_normalized[:5])\n",
    "print(\"\\n\")  # Adding space between outputs\n",
    "print(\"First 5 labels (output):\")\n",
    "print(y[:5])\n"
   ]
  },
  {
   "cell_type": "markdown",
   "metadata": {},
   "source": [
    "## Step 2: Build Neural Network\n",
    "\n",
    "To build the neural network, you can refer to your own codes you wrote while following the [Deep Learning with Python, TensorFlow, and Keras tutorial](https://www.youtube.com/watch?v=wQ8BIBpya2k) in the lesson. It's pretty similar to what you will be doing in this lab.\n",
    "\n",
    "1. Split the training and test data.\n",
    "1. Create a `Sequential` model.\n",
    "1. Add several layers to your model. Make sure you use ReLU as the activation function for the middle layers. Use Softmax for the output layer because each output has a single lable and all the label probabilities add up to 1.\n",
    "1. Compile the model using `adam` as the optimizer and `sparse_categorical_crossentropy` as the loss function. For metrics, use `accuracy` for now.\n",
    "1. Fit the training data.\n",
    "1. Evaluate your neural network model with the test data.\n",
    "1. Save your model as `tic-tac-toe.model`."
   ]
  },
  {
   "cell_type": "code",
   "execution_count": 3,
   "metadata": {},
   "outputs": [
    {
     "name": "stderr",
     "output_type": "stream",
     "text": [
      "/Users/cindymartinezgrullon/Library/Python/3.9/lib/python/site-packages/urllib3/__init__.py:35: NotOpenSSLWarning: urllib3 v2 only supports OpenSSL 1.1.1+, currently the 'ssl' module is compiled with 'LibreSSL 2.8.3'. See: https://github.com/urllib3/urllib3/issues/3020\n",
      "  warnings.warn(\n",
      "/Users/cindymartinezgrullon/Library/Python/3.9/lib/python/site-packages/keras/src/layers/core/dense.py:87: UserWarning: Do not pass an `input_shape`/`input_dim` argument to a layer. When using Sequential models, prefer using an `Input(shape)` object as the first layer in the model instead.\n",
      "  super().__init__(activity_regularizer=activity_regularizer, **kwargs)\n"
     ]
    },
    {
     "ename": "ValueError",
     "evalue": "Invalid dtype: object",
     "output_type": "error",
     "traceback": [
      "\u001b[0;31m---------------------------------------------------------------------------\u001b[0m",
      "\u001b[0;31mValueError\u001b[0m                                Traceback (most recent call last)",
      "Cell \u001b[0;32mIn[3], line 24\u001b[0m\n\u001b[1;32m     21\u001b[0m model \u001b[38;5;241m=\u001b[39m regression_model()\n\u001b[1;32m     23\u001b[0m \u001b[38;5;66;03m# fit the model\u001b[39;00m\n\u001b[0;32m---> 24\u001b[0m \u001b[43mmodel\u001b[49m\u001b[38;5;241;43m.\u001b[39;49m\u001b[43mfit\u001b[49m\u001b[43m(\u001b[49m\u001b[43mX_trainset\u001b[49m\u001b[43m,\u001b[49m\u001b[43m \u001b[49m\u001b[43my_trainset\u001b[49m\u001b[43m,\u001b[49m\u001b[43m \u001b[49m\u001b[43mepochs\u001b[49m\u001b[38;5;241;43m=\u001b[39;49m\u001b[38;5;241;43m100\u001b[39;49m\u001b[43m,\u001b[49m\u001b[43m \u001b[49m\u001b[43mverbose\u001b[49m\u001b[38;5;241;43m=\u001b[39;49m\u001b[38;5;241;43m2\u001b[39;49m\u001b[43m)\u001b[49m\n\u001b[1;32m     26\u001b[0m \u001b[38;5;66;03m# Make predictions on the test set\u001b[39;00m\n\u001b[1;32m     27\u001b[0m y_pred \u001b[38;5;241m=\u001b[39m model\u001b[38;5;241m.\u001b[39mpredict(X_testset)\n",
      "File \u001b[0;32m~/Library/Python/3.9/lib/python/site-packages/keras/src/utils/traceback_utils.py:122\u001b[0m, in \u001b[0;36mfilter_traceback.<locals>.error_handler\u001b[0;34m(*args, **kwargs)\u001b[0m\n\u001b[1;32m    119\u001b[0m     filtered_tb \u001b[38;5;241m=\u001b[39m _process_traceback_frames(e\u001b[38;5;241m.\u001b[39m__traceback__)\n\u001b[1;32m    120\u001b[0m     \u001b[38;5;66;03m# To get the full stack trace, call:\u001b[39;00m\n\u001b[1;32m    121\u001b[0m     \u001b[38;5;66;03m# `keras.config.disable_traceback_filtering()`\u001b[39;00m\n\u001b[0;32m--> 122\u001b[0m     \u001b[38;5;28;01mraise\u001b[39;00m e\u001b[38;5;241m.\u001b[39mwith_traceback(filtered_tb) \u001b[38;5;28;01mfrom\u001b[39;00m \u001b[38;5;28;01mNone\u001b[39;00m\n\u001b[1;32m    123\u001b[0m \u001b[38;5;28;01mfinally\u001b[39;00m:\n\u001b[1;32m    124\u001b[0m     \u001b[38;5;28;01mdel\u001b[39;00m filtered_tb\n",
      "File \u001b[0;32m~/Library/Python/3.9/lib/python/site-packages/optree/ops.py:752\u001b[0m, in \u001b[0;36mtree_map\u001b[0;34m(func, tree, is_leaf, none_is_leaf, namespace, *rests)\u001b[0m\n\u001b[1;32m    750\u001b[0m leaves, treespec \u001b[38;5;241m=\u001b[39m _C\u001b[38;5;241m.\u001b[39mflatten(tree, is_leaf, none_is_leaf, namespace)\n\u001b[1;32m    751\u001b[0m flat_args \u001b[38;5;241m=\u001b[39m [leaves] \u001b[38;5;241m+\u001b[39m [treespec\u001b[38;5;241m.\u001b[39mflatten_up_to(r) \u001b[38;5;28;01mfor\u001b[39;00m r \u001b[38;5;129;01min\u001b[39;00m rests]\n\u001b[0;32m--> 752\u001b[0m \u001b[38;5;28;01mreturn\u001b[39;00m \u001b[43mtreespec\u001b[49m\u001b[38;5;241;43m.\u001b[39;49m\u001b[43munflatten\u001b[49m\u001b[43m(\u001b[49m\u001b[38;5;28;43mmap\u001b[39;49m\u001b[43m(\u001b[49m\u001b[43mfunc\u001b[49m\u001b[43m,\u001b[49m\u001b[43m \u001b[49m\u001b[38;5;241;43m*\u001b[39;49m\u001b[43mflat_args\u001b[49m\u001b[43m)\u001b[49m\u001b[43m)\u001b[49m\n",
      "\u001b[0;31mValueError\u001b[0m: Invalid dtype: object"
     ]
    }
   ],
   "source": [
    "# your code here\n",
    "\n",
    "# Importing necessary libraries\n",
    "import tensorflow as tf\n",
    "from tensorflow.keras.models import Sequential\n",
    "from tensorflow.keras.layers import Dense, Input\n",
    "from tensorflow.keras.optimizers import Adam\n",
    "from sklearn.model_selection import train_test_split\n",
    "\n",
    "# 1. Split the dataset into training and testing data\n",
    "# Assuming you already have your dataset loaded as X (features) and y (labels)\n",
    "X_train, X_test, y_train, y_test = train_test_split(X, y, test_size=0.2, random_state=42)\n",
    "\n",
    "# 2. Create a Sequential model\n",
    "model = Sequential()\n",
    "\n",
    "# 3. Add layers to the model\n",
    "# Instead of using input_dim, use the Input layer for specifying the input shape\n",
    "model.add(Input(shape=(X_train.shape[1],)))  # Input layer\n",
    "model.add(Dense(128, activation='relu'))  # First hidden layer\n",
    "model.add(Dense(64, activation='relu'))  # Second hidden layer\n",
    "model.add(Dense(32, activation='relu'))  # Third hidden layer\n",
    "\n",
    "# Output layer\n",
    "model.add(Dense(3, activation='softmax'))  # Output layer for 3 classes (modify as needed)\n",
    "\n",
    "# 4. Compile the model using 'adam' optimizer and 'sparse_categorical_crossentropy' loss function\n",
    "model.compile(optimizer=Adam(), loss='sparse_categorical_crossentropy', metrics=['accuracy'])\n",
    "\n",
    "# 5. Fit the model with the training data\n",
    "history = model.fit(X_train, y_train, epochs=50, batch_size=32, verbose=1, validation_data=(X_test, y_test))\n",
    "\n",
    "# 6. Evaluate the model using the test data\n",
    "test_loss, test_accuracy = model.evaluate(X_test, y_test)\n",
    "\n",
    "# 7. Print the results\n",
    "print(f\"Training Accuracy (Last Epoch): {history.history['accuracy'][-1]:.4f}\")\n",
    "print(f\"Test Loss: {test_loss:.4f}\")\n",
    "print(f\"Test Accuracy: {test_accuracy:.4f}\")\n",
    "\n",
    "# 8. Save the model with a valid extension\n",
    "model.save(\"tic-tac-toe.keras\")\n",
    "\n",
    "# 9. Print model summary to inspect architecture\n",
    "model.summary()"
   ]
  },
  {
   "cell_type": "markdown",
   "metadata": {},
   "source": [
    "## Step 3: Make Predictions\n",
    "\n",
    "Now load your saved model and use it to make predictions on a few random rows in the test dataset. Check if the predictions are correct."
   ]
  },
  {
   "cell_type": "code",
   "execution_count": null,
   "metadata": {},
   "outputs": [],
   "source": [
    "# your code here\n",
    "\n",
    "# Import necessary libraries\n",
    "from tensorflow.keras.models import load_model\n",
    "import numpy as np\n",
    "\n",
    "# 1. Load the saved model\n",
    "model = load_model(\"tic-tac-toe.keras\")\n",
    "\n",
    "# 2. Make predictions on the test data\n",
    "# Let's select a few random rows from the test dataset\n",
    "random_indices = np.random.choice(len(X_test), size=5, replace=False)\n",
    "\n",
    "# Use .iloc to select the rows correctly from the DataFrame\n",
    "X_random = X_test.iloc[random_indices]\n",
    "\n",
    "# 3. Predict the class labels for the random test samples\n",
    "predictions = model.predict(X_random)\n",
    "\n",
    "# 4. Print the predictions and the corresponding true labels\n",
    "for i, index in enumerate(random_indices):\n",
    "    true_label = y_test.iloc[index]  # If y_test is also a DataFrame, use .iloc to access it\n",
    "    predicted_label = np.argmax(predictions[i])  # Get the index of the highest probability\n",
    "    print(f\"Sample {i+1}:\")\n",
    "    print(f\"True label: {true_label}, Predicted label: {predicted_label}\")\n",
    "    print(f\"Prediction probabilities: {predictions[i]}\")\n",
    "    print(\"-\" * 30)"
   ]
  },
  {
   "cell_type": "markdown",
   "metadata": {},
   "source": [
    "## Step 4: Improve Your Model\n",
    "\n",
    "Did your model achieve low loss (<0.1) and high accuracy (>0.95)? If not, try to improve your model.\n",
    "\n",
    "But how? There are so many things you can play with in Tensorflow and in the next challenge you'll learn about these things. But in this challenge, let's just do a few things to see if they will help.\n",
    "\n",
    "* Add more layers to your model. If the data are complex you need more layers. But don't use more layers than you need. If adding more layers does not improve the model performance you don't need additional layers.\n",
    "* Adjust the learning rate when you compile the model. This means you will create a custom `tf.keras.optimizers.Adam` instance where you specify the learning rate you want. Then pass the instance to `model.compile` as the optimizer.\n",
    "    * `tf.keras.optimizers.Adam` [reference](https://www.tensorflow.org/api_docs/python/tf/keras/optimizers/Adam).\n",
    "    * Don't worry if you don't understand what the learning rate does. You'll learn about it in the next challenge.\n",
    "* Adjust the number of epochs when you fit the training data to the model. Your model performance continues to improve as you train more epochs. But eventually it will reach the ceiling and the performance will stay the same."
   ]
  },
  {
   "cell_type": "code",
   "execution_count": null,
   "metadata": {},
   "outputs": [],
   "source": [
    "# your code here\n",
    "\n",
    "# Import necessary libraries\n",
    "from tensorflow.keras.optimizers import Adam\n",
    "from tensorflow.keras.callbacks import EarlyStopping\n",
    "\n",
    "# 1. Create a new Sequential model\n",
    "model_improved = Sequential()\n",
    "\n",
    "# 2. Add more layers to the model\n",
    "model_improved.add(Input(shape=(X_train.shape[1],)))  # Input layer\n",
    "model_improved.add(Dense(128, activation='relu'))  # First hidden layer\n",
    "model_improved.add(Dense(64, activation='relu'))  # Second hidden layer\n",
    "model_improved.add(Dense(32, activation='relu'))  # Third hidden layer\n",
    "model_improved.add(Dense(16, activation='relu'))  # Added more layers (fourth hidden layer)\n",
    "\n",
    "# Output layer\n",
    "model_improved.add(Dense(3, activation='softmax'))  # Output layer for 3 classes (modify as needed)\n",
    "\n",
    "# 3. Adjust the learning rate for the Adam optimizer\n",
    "learning_rate = 0.0005  # Example of adjusting the learning rate\n",
    "optimizer = Adam(learning_rate=learning_rate)\n",
    "\n",
    "# 4. Compile the model\n",
    "model_improved.compile(optimizer=optimizer, loss='sparse_categorical_crossentropy', metrics=['accuracy'])\n",
    "\n",
    "# 5. Fit the model with the training data (increase the number of epochs)\n",
    "early_stopping = EarlyStopping(monitor='val_loss', patience=10)  # Early stopping callback\n",
    "history_improved = model_improved.fit(X_train, y_train, epochs=100, batch_size=32, verbose=1, \n",
    "                                      validation_data=(X_test, y_test), callbacks=[early_stopping])\n",
    "\n",
    "# 6. Evaluate the model using the test data\n",
    "test_loss_improved, test_accuracy_improved = model_improved.evaluate(X_test, y_test)\n",
    "\n",
    "# 7. Print the results\n",
    "print(f\"Improved Training Accuracy (Last Epoch): {history_improved.history['accuracy'][-1]:.4f}\")\n",
    "print(f\"Improved Test Loss: {test_loss_improved:.4f}\")\n",
    "print(f\"Improved Test Accuracy: {test_accuracy_improved:.4f}\")\n",
    "\n",
    "# 8. Save the improved model\n",
    "model_improved.save(\"tic-tac-toe-improved.keras\")"
   ]
  },
  {
   "cell_type": "markdown",
   "metadata": {},
   "source": [
    "**Which approach(es) did you find helpful to improve your model performance?**"
   ]
  },
  {
   "cell_type": "markdown",
   "metadata": {},
   "source": [
    "\n",
    "The most helpful approach was adjusting the learning rate and increasing the number of epochs."
   ]
  }
 ],
 "metadata": {
  "kernelspec": {
   "display_name": "Python 3",
   "language": "python",
   "name": "python3"
  },
  "language_info": {
   "codemirror_mode": {
    "name": "ipython",
    "version": 3
   },
   "file_extension": ".py",
   "mimetype": "text/x-python",
   "name": "python",
   "nbconvert_exporter": "python",
   "pygments_lexer": "ipython3",
   "version": "3.9.6"
  }
 },
 "nbformat": 4,
 "nbformat_minor": 2
}
